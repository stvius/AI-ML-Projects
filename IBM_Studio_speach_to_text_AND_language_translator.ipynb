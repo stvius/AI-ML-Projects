{
 "cells": [
  {
   "cell_type": "markdown",
   "metadata": {},
   "source": [
    "<h1 align=\"center\"><font size=\"5\"><b>IBM Watson Speech to Text & Language Translation </b></font></h1>"
   ]
  },
  {
   "cell_type": "markdown",
   "metadata": {},
   "source": [
    "---\n",
    "## **Objectives:**\n",
    "\n",
    "1. Converting an audio of an English speech into text using IBM Watson Speech-to-Text API.\n",
    "2. Translating the English transcipt of the speech to Spanish using IBM Watson Language Translator API.\n",
    "---\n",
    "## **Prerequisites to follow along:**\n",
    "1. Your own <a href='https://cloud.ibm.com'> IBM Cloud account. </a>\n",
    "2. Your own <a href='https://cloud.ibm.com/catalog/services/text-to-speech'> Text-to-Speech </a> API key & endpoint.\n",
    "3. Your own <a href='https://cloud.ibm.com/catalog/services/language-translator'> Language Translator</a> API key & endpoint.\n",
    "---"
   ]
  },
  {
   "cell_type": "markdown",
   "metadata": {},
   "source": [
    "In order to play with IBM watson via python, you need to install <code>ibm_watson</code> library. Here is one way to install it:"
   ]
  },
  {
   "cell_type": "code",
   "execution_count": null,
   "metadata": {
    "jupyter": {
     "outputs_hidden": false
    }
   },
   "outputs": [],
   "source": [
    "!pip install ibm_watson wget "
   ]
  },
  {
   "cell_type": "markdown",
   "metadata": {},
   "source": [
    "For more information on how to install this python package, check this <a href='https://dataplatform.cloud.ibm.com/docs/content/wsj/streaming-pipelines/installing_Python_libs.html'>link.</a>\n",
    "\n",
    "---"
   ]
  },
  {
   "cell_type": "markdown",
   "metadata": {},
   "source": [
    "## 1- Speech to Text:"
   ]
  },
  {
   "cell_type": "markdown",
   "metadata": {},
   "source": [
    "1.1. Import <code>SpeechToTextV1</code> from <code>ibm_watson</code>:"
   ]
  },
  {
   "cell_type": "code",
   "execution_count": 3,
   "metadata": {
    "jupyter": {
     "outputs_hidden": false
    }
   },
   "outputs": [],
   "source": [
    "from ibm_watson import SpeechToTextV1 \n",
    "import json # the transcripted audio will be stored in a json dictionary\n",
    "from ibm_cloud_sdk_core.authenticators import IAMAuthenticator #Identity Access authenticator to authenticate your access to the service "
   ]
  },
  {
   "cell_type": "markdown",
   "metadata": {},
   "source": [
    "1.2. Store the service endpoint API url in a variable:\n",
    "\n",
    "* *Replace the below <code>------</code> with your endpoint url*"
   ]
  },
  {
   "cell_type": "code",
   "execution_count": 4,
   "metadata": {},
   "outputs": [],
   "source": [
    "url_s2t = '------'"
   ]
  },
  {
   "cell_type": "markdown",
   "metadata": {},
   "source": [
    "1.3. Store the service API secret key in a variable:\n",
    "\n",
    "* *Replace the below <code>------</code> with your API key*"
   ]
  },
  {
   "cell_type": "code",
   "execution_count": 7,
   "metadata": {
    "jupyter": {
     "outputs_hidden": false
    }
   },
   "outputs": [],
   "source": [
    "iam_apikey_s2t = '------'"
   ]
  },
  {
   "cell_type": "markdown",
   "metadata": {},
   "source": [
    "1.4. Pass the API key to the Identity Acess Management authenticator constructor, letting the SDK manage the token."
   ]
  },
  {
   "cell_type": "code",
   "execution_count": 8,
   "metadata": {},
   "outputs": [],
   "source": [
    "authenticator = IAMAuthenticator(iam_apikey_s2t)"
   ]
  },
  {
   "cell_type": "markdown",
   "metadata": {},
   "source": [
    "1.5. Create a Speech to Text object adapter. The parameters are the endpoint and the API key:"
   ]
  },
  {
   "cell_type": "code",
   "execution_count": 10,
   "metadata": {},
   "outputs": [],
   "source": [
    "s2t = SpeechToTextV1(authenticator=authenticator)\n",
    "s2t.set_service_url(url_s2t)"
   ]
  },
  {
   "cell_type": "markdown",
   "metadata": {},
   "source": [
    "*Checking the object type:*"
   ]
  },
  {
   "cell_type": "code",
   "execution_count": 11,
   "metadata": {},
   "outputs": [
    {
     "data": {
      "text/plain": [
       "<ibm_watson.speech_to_text_v1_adapter.SpeechToTextV1Adapter at 0x10d11eb00>"
      ]
     },
     "execution_count": 11,
     "metadata": {},
     "output_type": "execute_result"
    }
   ],
   "source": [
    "s2t"
   ]
  },
  {
   "cell_type": "markdown",
   "metadata": {},
   "source": [
    "1.6. Assign the path of the audio file you would like to transcript to a variable:"
   ]
  },
  {
   "cell_type": "code",
   "execution_count": 12,
   "metadata": {
    "jupyter": {
     "outputs_hidden": false
    }
   },
   "outputs": [],
   "source": [
    "filename='files_/angelina_jolie_iftar_dinner_2016.mp3'"
   ]
  },
  {
   "cell_type": "markdown",
   "metadata": {},
   "source": [
    "1.7. Create the file object <code>wav</code> with the audio file using  <code>open</code>.\n",
    "\n",
    "* Set the <code>mode</code> to 'rb' *\"Read Binary\"*\n",
    "* We use the method <code>recognize</code> to return the recognized text and store it in <code>response</code> variable.\n",
    "* The parameter audio is the file object <code>wav</code>. \n",
    "* The parameter <code>content_type</code> is the format of the audio file.</p>"
   ]
  },
  {
   "cell_type": "code",
   "execution_count": 13,
   "metadata": {
    "jupyter": {
     "outputs_hidden": false
    }
   },
   "outputs": [],
   "source": [
    "with open(filename, mode=\"rb\")  as wav:\n",
    "    response = s2t.recognize(audio=wav, content_type='audio/mp3')"
   ]
  },
  {
   "cell_type": "markdown",
   "metadata": {},
   "source": [
    "1.8. The attribute <code>result</code> generates a dictionary with the speech trascription:"
   ]
  },
  {
   "cell_type": "code",
   "execution_count": 14,
   "metadata": {},
   "outputs": [
    {
     "data": {
      "text/plain": [
       "{'results': [{'alternatives': [{'confidence': 0.42,\n",
       "     'transcript': 'Thursday these gentlemen yeah '}],\n",
       "   'final': True},\n",
       "  {'alternatives': [{'confidence': 0.98, 'transcript': 'good evening '}],\n",
       "   'final': True},\n",
       "  {'alternatives': [{'confidence': 0.94,\n",
       "     'transcript': 'it is such a pleasure to be with all of you '}],\n",
       "   'final': True},\n",
       "  {'alternatives': [{'confidence': 0.86,\n",
       "     'transcript': 'with different backgrounds faith and beliefs all pulling in the same direction and sharing a common outlook of respect and tolerance it reminds me how lucky we are to be living in a country that enable civil society to flourish that provides for a rich tapestry of viewpoints and efforts '}],\n",
       "   'final': True},\n",
       "  {'alternatives': [{'confidence': 0.89,\n",
       "     'transcript': 'civil society is one of the guard rails of democracy and so I thank you for all the work that so many of you do on behalf of refugees in this country and around the world '}],\n",
       "   'final': True},\n",
       "  {'alternatives': [{'confidence': 0.95,\n",
       "     'transcript': 'the principles we live by in a democracy are not new '}],\n",
       "   'final': True},\n",
       "  {'alternatives': [{'confidence': 0.93,\n",
       "     'transcript': 'they are not open to being reinterpreted or watered down or even set aside because of new circumstances as citizens we do not only want freedom and human rights for every single person in our society we want that for every person in the world '}],\n",
       "   'final': True},\n",
       "  {'alternatives': [{'confidence': 0.9,\n",
       "     'transcript': 'upholding the ideal that all people are born equal and deserve equal rights and dignity and that is the essence of what it is to be a citizen of a democracy '}],\n",
       "   'final': True},\n",
       "  {'alternatives': [{'confidence': 0.94,\n",
       "     'transcript': 'it is how we treat the weakest for the most vulnerable among us that says the most about our commitment to human rights and equality and justice for all people '}],\n",
       "   'final': True},\n",
       "  {'alternatives': [{'confidence': 0.95,\n",
       "     'transcript': 'and when we are most clearly seen to truly stand for those things in the world '}],\n",
       "   'final': True},\n",
       "  {'alternatives': [{'confidence': 0.82,\n",
       "     'transcript': 'that is when we are safest as a nation '}],\n",
       "   'final': True},\n",
       "  {'alternatives': [{'confidence': 0.99,\n",
       "     'transcript': 'that is when we are most respected and admired '}],\n",
       "   'final': True},\n",
       "  {'alternatives': [{'confidence': 0.95,\n",
       "     'transcript': 'that is when our word counts most internationally and that is how we inspire others to work with us '}],\n",
       "   'final': True},\n",
       "  {'alternatives': [{'confidence': 0.88,\n",
       "     'transcript': \"we don't we define ourselves as different people because we face new and daunting problems \"}],\n",
       "   'final': True},\n",
       "  {'alternatives': [{'confidence': 0.82,\n",
       "     'transcript': 'we raise a fight with an us to face down those challenges and we remain true to ourselves '}],\n",
       "   'final': True},\n",
       "  {'alternatives': [{'confidence': 0.92,\n",
       "     'transcript': 'speaking as an American '}],\n",
       "   'final': True},\n",
       "  {'alternatives': [{'confidence': 0.97,\n",
       "     'transcript': 'the fact is there is not a country in the world that we are not connected to as a result of our unique history '}],\n",
       "   'final': True},\n",
       "  {'alternatives': [{'confidence': 0.98,\n",
       "     'transcript': 'we represent a global world '}],\n",
       "   'final': True},\n",
       "  {'alternatives': [{'confidence': 0.87,\n",
       "     'transcript': 'and when we are at our strongest is when we draw on our diversity as a people to find unity based on our common values and our larger identity '}],\n",
       "   'final': True},\n",
       "  {'alternatives': [{'confidence': 0.9,\n",
       "     'transcript': \"we are not strong despite our diversity we're strong because of it \"}],\n",
       "   'final': True},\n",
       "  {'alternatives': [{'confidence': 0.89,\n",
       "     'transcript': 'so it is time to reclaim for ourselves the idea of what strength is in democratic societies '}],\n",
       "   'final': True},\n",
       "  {'alternatives': [{'confidence': 0.95,\n",
       "     'transcript': 'I firmly believe that strength lies in the decency and common sense of regular citizens '}],\n",
       "   'final': True},\n",
       "  {'alternatives': [{'confidence': 0.96,\n",
       "     'transcript': 'such as the people who turned out in the thousands of the tragedy in Orlando supported by millions of like minded people around the world from every race and religion '}],\n",
       "   'final': True},\n",
       "  {'alternatives': [{'confidence': 0.95,\n",
       "     'transcript': 'strength lies in identifying how to address the very particular challenge from a small minority of people who choose the path of violent extremism '}],\n",
       "   'final': True},\n",
       "  {'alternatives': [{'confidence': 0.88,\n",
       "     'transcript': 'or who abuse religion without stigmatizing isolating millions of people who share in that beautiful religion '}],\n",
       "   'final': True},\n",
       "  {'alternatives': [{'confidence': 0.92,\n",
       "     'transcript': \"there's nothing strong about denigrating anyone on the basis of their religion nationality sexual orientation gender or on the basis of any characteristic or difference real or imagined \"}],\n",
       "   'final': True},\n",
       "  {'alternatives': [{'confidence': 0.87,\n",
       "     'transcript': 'when we discriminate when we apply of our actions that some lives are worth more than others or when we denigrate the faith traditions and cultures of any group of people we weaken our strength as democratic societies '}],\n",
       "   'final': True},\n",
       "  {'alternatives': [{'confidence': 0.91,\n",
       "     'transcript': 'what would it say about us as a country and international communities if we reach the point where we decided we were not prepared to stand up for our principles '}],\n",
       "   'final': True},\n",
       "  {'alternatives': [{'confidence': 0.97,\n",
       "     'transcript': 'the answer to addressing the global refugee crisis surely lies in finding common purpose and drawing strength from each other like we all feel in this room right now '}],\n",
       "   'final': True},\n",
       "  {'alternatives': [{'confidence': 0.85,\n",
       "     'transcript': \"is dangerous to who we are and showing that we have the fight in us to confront our generation's test and emerge stronger for it \"}],\n",
       "   'final': True},\n",
       "  {'alternatives': [{'confidence': 0.93,\n",
       "     'transcript': 'that is my hope and I believe I share with all of you and millions of people beyond this room '}],\n",
       "   'final': True},\n",
       "  {'alternatives': [{'confidence': 0.98,\n",
       "     'transcript': 'so thank you so much for all that you do for allowing me to be here with you '}],\n",
       "   'final': True},\n",
       "  {'alternatives': [{'confidence': 0.68, 'transcript': 'thank you for '}],\n",
       "   'final': True}],\n",
       " 'result_index': 0}"
      ]
     },
     "execution_count": 14,
     "metadata": {},
     "output_type": "execute_result"
    }
   ],
   "source": [
    "response.result"
   ]
  },
  {
   "cell_type": "markdown",
   "metadata": {},
   "source": [
    "#### Et Voila !! you got the audio transcipted in English !!"
   ]
  },
  {
   "cell_type": "markdown",
   "metadata": {},
   "source": [
    "1.9. Import json_normalize library in order to normalize semi-structured JSON data into a flat table:"
   ]
  },
  {
   "cell_type": "code",
   "execution_count": 15,
   "metadata": {},
   "outputs": [
    {
     "data": {
      "text/html": [
       "<div>\n",
       "<style scoped>\n",
       "    .dataframe tbody tr th:only-of-type {\n",
       "        vertical-align: middle;\n",
       "    }\n",
       "\n",
       "    .dataframe tbody tr th {\n",
       "        vertical-align: top;\n",
       "    }\n",
       "\n",
       "    .dataframe thead th {\n",
       "        text-align: right;\n",
       "    }\n",
       "</style>\n",
       "<table border=\"1\" class=\"dataframe\">\n",
       "  <thead>\n",
       "    <tr style=\"text-align: right;\">\n",
       "      <th></th>\n",
       "      <th>confidence</th>\n",
       "      <th>transcript</th>\n",
       "    </tr>\n",
       "  </thead>\n",
       "  <tbody>\n",
       "    <tr>\n",
       "      <th>0</th>\n",
       "      <td>0.42</td>\n",
       "      <td>Thursday these gentlemen yeah</td>\n",
       "    </tr>\n",
       "    <tr>\n",
       "      <th>1</th>\n",
       "      <td>0.98</td>\n",
       "      <td>good evening</td>\n",
       "    </tr>\n",
       "    <tr>\n",
       "      <th>2</th>\n",
       "      <td>0.94</td>\n",
       "      <td>it is such a pleasure to be with all of you</td>\n",
       "    </tr>\n",
       "    <tr>\n",
       "      <th>3</th>\n",
       "      <td>0.86</td>\n",
       "      <td>with different backgrounds faith and beliefs a...</td>\n",
       "    </tr>\n",
       "    <tr>\n",
       "      <th>4</th>\n",
       "      <td>0.89</td>\n",
       "      <td>civil society is one of the guard rails of dem...</td>\n",
       "    </tr>\n",
       "    <tr>\n",
       "      <th>5</th>\n",
       "      <td>0.95</td>\n",
       "      <td>the principles we live by in a democracy are n...</td>\n",
       "    </tr>\n",
       "    <tr>\n",
       "      <th>6</th>\n",
       "      <td>0.93</td>\n",
       "      <td>they are not open to being reinterpreted or wa...</td>\n",
       "    </tr>\n",
       "    <tr>\n",
       "      <th>7</th>\n",
       "      <td>0.90</td>\n",
       "      <td>upholding the ideal that all people are born e...</td>\n",
       "    </tr>\n",
       "    <tr>\n",
       "      <th>8</th>\n",
       "      <td>0.94</td>\n",
       "      <td>it is how we treat the weakest for the most vu...</td>\n",
       "    </tr>\n",
       "    <tr>\n",
       "      <th>9</th>\n",
       "      <td>0.95</td>\n",
       "      <td>and when we are most clearly seen to truly sta...</td>\n",
       "    </tr>\n",
       "    <tr>\n",
       "      <th>10</th>\n",
       "      <td>0.82</td>\n",
       "      <td>that is when we are safest as a nation</td>\n",
       "    </tr>\n",
       "    <tr>\n",
       "      <th>11</th>\n",
       "      <td>0.99</td>\n",
       "      <td>that is when we are most respected and admired</td>\n",
       "    </tr>\n",
       "    <tr>\n",
       "      <th>12</th>\n",
       "      <td>0.95</td>\n",
       "      <td>that is when our word counts most internationa...</td>\n",
       "    </tr>\n",
       "    <tr>\n",
       "      <th>13</th>\n",
       "      <td>0.88</td>\n",
       "      <td>we don't we define ourselves as different peop...</td>\n",
       "    </tr>\n",
       "    <tr>\n",
       "      <th>14</th>\n",
       "      <td>0.82</td>\n",
       "      <td>we raise a fight with an us to face down those...</td>\n",
       "    </tr>\n",
       "    <tr>\n",
       "      <th>15</th>\n",
       "      <td>0.92</td>\n",
       "      <td>speaking as an American</td>\n",
       "    </tr>\n",
       "    <tr>\n",
       "      <th>16</th>\n",
       "      <td>0.97</td>\n",
       "      <td>the fact is there is not a country in the worl...</td>\n",
       "    </tr>\n",
       "    <tr>\n",
       "      <th>17</th>\n",
       "      <td>0.98</td>\n",
       "      <td>we represent a global world</td>\n",
       "    </tr>\n",
       "    <tr>\n",
       "      <th>18</th>\n",
       "      <td>0.87</td>\n",
       "      <td>and when we are at our strongest is when we dr...</td>\n",
       "    </tr>\n",
       "    <tr>\n",
       "      <th>19</th>\n",
       "      <td>0.90</td>\n",
       "      <td>we are not strong despite our diversity we're ...</td>\n",
       "    </tr>\n",
       "    <tr>\n",
       "      <th>20</th>\n",
       "      <td>0.89</td>\n",
       "      <td>so it is time to reclaim for ourselves the ide...</td>\n",
       "    </tr>\n",
       "    <tr>\n",
       "      <th>21</th>\n",
       "      <td>0.95</td>\n",
       "      <td>I firmly believe that strength lies in the dec...</td>\n",
       "    </tr>\n",
       "    <tr>\n",
       "      <th>22</th>\n",
       "      <td>0.96</td>\n",
       "      <td>such as the people who turned out in the thous...</td>\n",
       "    </tr>\n",
       "    <tr>\n",
       "      <th>23</th>\n",
       "      <td>0.95</td>\n",
       "      <td>strength lies in identifying how to address th...</td>\n",
       "    </tr>\n",
       "    <tr>\n",
       "      <th>24</th>\n",
       "      <td>0.88</td>\n",
       "      <td>or who abuse religion without stigmatizing iso...</td>\n",
       "    </tr>\n",
       "    <tr>\n",
       "      <th>25</th>\n",
       "      <td>0.92</td>\n",
       "      <td>there's nothing strong about denigrating anyon...</td>\n",
       "    </tr>\n",
       "    <tr>\n",
       "      <th>26</th>\n",
       "      <td>0.87</td>\n",
       "      <td>when we discriminate when we apply of our acti...</td>\n",
       "    </tr>\n",
       "    <tr>\n",
       "      <th>27</th>\n",
       "      <td>0.91</td>\n",
       "      <td>what would it say about us as a country and in...</td>\n",
       "    </tr>\n",
       "    <tr>\n",
       "      <th>28</th>\n",
       "      <td>0.97</td>\n",
       "      <td>the answer to addressing the global refugee cr...</td>\n",
       "    </tr>\n",
       "    <tr>\n",
       "      <th>29</th>\n",
       "      <td>0.85</td>\n",
       "      <td>is dangerous to who we are and showing that we...</td>\n",
       "    </tr>\n",
       "    <tr>\n",
       "      <th>30</th>\n",
       "      <td>0.93</td>\n",
       "      <td>that is my hope and I believe I share with all...</td>\n",
       "    </tr>\n",
       "    <tr>\n",
       "      <th>31</th>\n",
       "      <td>0.98</td>\n",
       "      <td>so thank you so much for all that you do for a...</td>\n",
       "    </tr>\n",
       "    <tr>\n",
       "      <th>32</th>\n",
       "      <td>0.68</td>\n",
       "      <td>thank you for</td>\n",
       "    </tr>\n",
       "  </tbody>\n",
       "</table>\n",
       "</div>"
      ],
      "text/plain": [
       "    confidence                                         transcript\n",
       "0         0.42                     Thursday these gentlemen yeah \n",
       "1         0.98                                      good evening \n",
       "2         0.94       it is such a pleasure to be with all of you \n",
       "3         0.86  with different backgrounds faith and beliefs a...\n",
       "4         0.89  civil society is one of the guard rails of dem...\n",
       "5         0.95  the principles we live by in a democracy are n...\n",
       "6         0.93  they are not open to being reinterpreted or wa...\n",
       "7         0.90  upholding the ideal that all people are born e...\n",
       "8         0.94  it is how we treat the weakest for the most vu...\n",
       "9         0.95  and when we are most clearly seen to truly sta...\n",
       "10        0.82            that is when we are safest as a nation \n",
       "11        0.99    that is when we are most respected and admired \n",
       "12        0.95  that is when our word counts most internationa...\n",
       "13        0.88  we don't we define ourselves as different peop...\n",
       "14        0.82  we raise a fight with an us to face down those...\n",
       "15        0.92                           speaking as an American \n",
       "16        0.97  the fact is there is not a country in the worl...\n",
       "17        0.98                       we represent a global world \n",
       "18        0.87  and when we are at our strongest is when we dr...\n",
       "19        0.90  we are not strong despite our diversity we're ...\n",
       "20        0.89  so it is time to reclaim for ourselves the ide...\n",
       "21        0.95  I firmly believe that strength lies in the dec...\n",
       "22        0.96  such as the people who turned out in the thous...\n",
       "23        0.95  strength lies in identifying how to address th...\n",
       "24        0.88  or who abuse religion without stigmatizing iso...\n",
       "25        0.92  there's nothing strong about denigrating anyon...\n",
       "26        0.87  when we discriminate when we apply of our acti...\n",
       "27        0.91  what would it say about us as a country and in...\n",
       "28        0.97  the answer to addressing the global refugee cr...\n",
       "29        0.85  is dangerous to who we are and showing that we...\n",
       "30        0.93  that is my hope and I believe I share with all...\n",
       "31        0.98  so thank you so much for all that you do for a...\n",
       "32        0.68                                     thank you for "
      ]
     },
     "execution_count": 15,
     "metadata": {},
     "output_type": "execute_result"
    }
   ],
   "source": [
    "from pandas.io.json import json_normalize\n",
    "\n",
    "json_normalize(response.result['results'],\"alternatives\")"
   ]
  },
  {
   "cell_type": "code",
   "execution_count": 16,
   "metadata": {
    "scrolled": true
   },
   "outputs": [
    {
     "data": {
      "text/plain": [
       "<ibm_cloud_sdk_core.detailed_response.DetailedResponse at 0x10d1aed30>"
      ]
     },
     "execution_count": 16,
     "metadata": {},
     "output_type": "execute_result"
    }
   ],
   "source": [
    "response #checking the type of response"
   ]
  },
  {
   "cell_type": "markdown",
   "metadata": {},
   "source": [
    "1.10. Let's assign the variable <code>recognized_text</code> to the transcripted text number 31 in order to get it translated in the upcoming section of this project:"
   ]
  },
  {
   "cell_type": "code",
   "execution_count": 22,
   "metadata": {
    "jupyter": {
     "outputs_hidden": false
    }
   },
   "outputs": [
    {
     "data": {
      "text/plain": [
       "'so thank you so much for all that you do for allowing me to be here with you '"
      ]
     },
     "execution_count": 22,
     "metadata": {},
     "output_type": "execute_result"
    }
   ],
   "source": [
    "recognized_text=response.result['results'][31][\"alternatives\"][0][\"transcript\"]\n",
    "recognized_text"
   ]
  },
  {
   "cell_type": "markdown",
   "metadata": {},
   "source": [
    "---"
   ]
  },
  {
   "cell_type": "markdown",
   "metadata": {},
   "source": [
    "## 2- Language Translator:"
   ]
  },
  {
   "cell_type": "markdown",
   "metadata": {},
   "source": [
    "2.1 Import <code>LanguageTranslatorV3</code> from <code>ibm_watson</code>:"
   ]
  },
  {
   "cell_type": "code",
   "execution_count": 23,
   "metadata": {},
   "outputs": [],
   "source": [
    "from ibm_watson import LanguageTranslatorV3"
   ]
  },
  {
   "cell_type": "markdown",
   "metadata": {},
   "source": [
    "2.2. Store the service endpoint API url in a variable:\n",
    "* _Replace the below <code>------</code> with your endpoint url_"
   ]
  },
  {
   "cell_type": "code",
   "execution_count": 24,
   "metadata": {
    "jupyter": {
     "outputs_hidden": false
    }
   },
   "outputs": [],
   "source": [
    "url_lt='------'"
   ]
  },
  {
   "cell_type": "markdown",
   "metadata": {},
   "source": [
    "2.3. Store the service API secret key in a variable:\n",
    "\n",
    "* _Replace the below <code>------</code> with your API key_"
   ]
  },
  {
   "cell_type": "code",
   "execution_count": 25,
   "metadata": {
    "jupyter": {
     "outputs_hidden": false
    }
   },
   "outputs": [],
   "source": [
    "apikey_lt='------'"
   ]
  },
  {
   "cell_type": "markdown",
   "metadata": {},
   "source": [
    "2.4. IBM Language Translator API requests require a version parameter that takes a date in the format version=YYYY-MM-DD.   \n",
    "I am doing this project on 2020-02-12:"
   ]
  },
  {
   "cell_type": "code",
   "execution_count": 26,
   "metadata": {
    "jupyter": {
     "outputs_hidden": false
    }
   },
   "outputs": [],
   "source": [
    "version_lt='2020-02-12'"
   ]
  },
  {
   "cell_type": "markdown",
   "metadata": {},
   "source": [
    "2.5. Pass the API key to the Identity Acess Management authenticator constructor, letting the SDK manage the token."
   ]
  },
  {
   "cell_type": "code",
   "execution_count": 27,
   "metadata": {},
   "outputs": [],
   "source": [
    "authenticator = IAMAuthenticator(apikey_lt)"
   ]
  },
  {
   "cell_type": "markdown",
   "metadata": {},
   "source": [
    "2.6. Create a Language Translator object <code>language_translator</code>:"
   ]
  },
  {
   "cell_type": "code",
   "execution_count": 28,
   "metadata": {
    "jupyter": {
     "outputs_hidden": false
    }
   },
   "outputs": [],
   "source": [
    "language_translator = LanguageTranslatorV3(version=version_lt,authenticator=authenticator)\n",
    "language_translator.set_service_url(url_lt)"
   ]
  },
  {
   "cell_type": "markdown",
   "metadata": {},
   "source": [
    "_Checking the object type:_"
   ]
  },
  {
   "cell_type": "code",
   "execution_count": 29,
   "metadata": {},
   "outputs": [
    {
     "data": {
      "text/plain": [
       "<ibm_watson.language_translator_v3.LanguageTranslatorV3 at 0x10fdc8f60>"
      ]
     },
     "execution_count": 29,
     "metadata": {},
     "output_type": "execute_result"
    }
   ],
   "source": [
    "language_translator"
   ]
  },
  {
   "cell_type": "markdown",
   "metadata": {},
   "source": [
    "2.7. Let's see what languages this service can identify:\n",
    "\n",
    "* _The method Returns the language code._"
   ]
  },
  {
   "cell_type": "code",
   "execution_count": 30,
   "metadata": {
    "jupyter": {
     "outputs_hidden": false
    }
   },
   "outputs": [
    {
     "data": {
      "text/html": [
       "<div>\n",
       "<style scoped>\n",
       "    .dataframe tbody tr th:only-of-type {\n",
       "        vertical-align: middle;\n",
       "    }\n",
       "\n",
       "    .dataframe tbody tr th {\n",
       "        vertical-align: top;\n",
       "    }\n",
       "\n",
       "    .dataframe thead th {\n",
       "        text-align: right;\n",
       "    }\n",
       "</style>\n",
       "<table border=\"1\" class=\"dataframe\">\n",
       "  <thead>\n",
       "    <tr style=\"text-align: right;\">\n",
       "      <th></th>\n",
       "      <th>language</th>\n",
       "      <th>name</th>\n",
       "    </tr>\n",
       "  </thead>\n",
       "  <tbody>\n",
       "    <tr>\n",
       "      <th>0</th>\n",
       "      <td>af</td>\n",
       "      <td>Afrikaans</td>\n",
       "    </tr>\n",
       "    <tr>\n",
       "      <th>1</th>\n",
       "      <td>ar</td>\n",
       "      <td>Arabic</td>\n",
       "    </tr>\n",
       "    <tr>\n",
       "      <th>2</th>\n",
       "      <td>az</td>\n",
       "      <td>Azerbaijani</td>\n",
       "    </tr>\n",
       "    <tr>\n",
       "      <th>3</th>\n",
       "      <td>ba</td>\n",
       "      <td>Bashkir</td>\n",
       "    </tr>\n",
       "    <tr>\n",
       "      <th>4</th>\n",
       "      <td>be</td>\n",
       "      <td>Belarusian</td>\n",
       "    </tr>\n",
       "    <tr>\n",
       "      <th>5</th>\n",
       "      <td>bg</td>\n",
       "      <td>Bulgarian</td>\n",
       "    </tr>\n",
       "    <tr>\n",
       "      <th>6</th>\n",
       "      <td>bn</td>\n",
       "      <td>Bengali</td>\n",
       "    </tr>\n",
       "    <tr>\n",
       "      <th>7</th>\n",
       "      <td>ca</td>\n",
       "      <td>Catalan</td>\n",
       "    </tr>\n",
       "    <tr>\n",
       "      <th>8</th>\n",
       "      <td>cs</td>\n",
       "      <td>Czech</td>\n",
       "    </tr>\n",
       "    <tr>\n",
       "      <th>9</th>\n",
       "      <td>cv</td>\n",
       "      <td>Chuvash</td>\n",
       "    </tr>\n",
       "    <tr>\n",
       "      <th>10</th>\n",
       "      <td>da</td>\n",
       "      <td>Danish</td>\n",
       "    </tr>\n",
       "    <tr>\n",
       "      <th>11</th>\n",
       "      <td>de</td>\n",
       "      <td>German</td>\n",
       "    </tr>\n",
       "    <tr>\n",
       "      <th>12</th>\n",
       "      <td>el</td>\n",
       "      <td>Greek</td>\n",
       "    </tr>\n",
       "    <tr>\n",
       "      <th>13</th>\n",
       "      <td>en</td>\n",
       "      <td>English</td>\n",
       "    </tr>\n",
       "    <tr>\n",
       "      <th>14</th>\n",
       "      <td>eo</td>\n",
       "      <td>Esperanto</td>\n",
       "    </tr>\n",
       "    <tr>\n",
       "      <th>15</th>\n",
       "      <td>es</td>\n",
       "      <td>Spanish</td>\n",
       "    </tr>\n",
       "    <tr>\n",
       "      <th>16</th>\n",
       "      <td>et</td>\n",
       "      <td>Estonian</td>\n",
       "    </tr>\n",
       "    <tr>\n",
       "      <th>17</th>\n",
       "      <td>eu</td>\n",
       "      <td>Basque</td>\n",
       "    </tr>\n",
       "    <tr>\n",
       "      <th>18</th>\n",
       "      <td>fa</td>\n",
       "      <td>Persian</td>\n",
       "    </tr>\n",
       "    <tr>\n",
       "      <th>19</th>\n",
       "      <td>fi</td>\n",
       "      <td>Finnish</td>\n",
       "    </tr>\n",
       "    <tr>\n",
       "      <th>20</th>\n",
       "      <td>fr</td>\n",
       "      <td>French</td>\n",
       "    </tr>\n",
       "    <tr>\n",
       "      <th>21</th>\n",
       "      <td>ga</td>\n",
       "      <td>Irish</td>\n",
       "    </tr>\n",
       "    <tr>\n",
       "      <th>22</th>\n",
       "      <td>gu</td>\n",
       "      <td>Gujarati</td>\n",
       "    </tr>\n",
       "    <tr>\n",
       "      <th>23</th>\n",
       "      <td>he</td>\n",
       "      <td>Hebrew</td>\n",
       "    </tr>\n",
       "    <tr>\n",
       "      <th>24</th>\n",
       "      <td>hi</td>\n",
       "      <td>Hindi</td>\n",
       "    </tr>\n",
       "    <tr>\n",
       "      <th>25</th>\n",
       "      <td>hr</td>\n",
       "      <td>Croatian</td>\n",
       "    </tr>\n",
       "    <tr>\n",
       "      <th>26</th>\n",
       "      <td>ht</td>\n",
       "      <td>Haitian</td>\n",
       "    </tr>\n",
       "    <tr>\n",
       "      <th>27</th>\n",
       "      <td>hu</td>\n",
       "      <td>Hungarian</td>\n",
       "    </tr>\n",
       "    <tr>\n",
       "      <th>28</th>\n",
       "      <td>hy</td>\n",
       "      <td>Armenian</td>\n",
       "    </tr>\n",
       "    <tr>\n",
       "      <th>29</th>\n",
       "      <td>is</td>\n",
       "      <td>Icelandic</td>\n",
       "    </tr>\n",
       "    <tr>\n",
       "      <th>...</th>\n",
       "      <td>...</td>\n",
       "      <td>...</td>\n",
       "    </tr>\n",
       "    <tr>\n",
       "      <th>38</th>\n",
       "      <td>lt</td>\n",
       "      <td>Lithuanian</td>\n",
       "    </tr>\n",
       "    <tr>\n",
       "      <th>39</th>\n",
       "      <td>lv</td>\n",
       "      <td>Latvian</td>\n",
       "    </tr>\n",
       "    <tr>\n",
       "      <th>40</th>\n",
       "      <td>ml</td>\n",
       "      <td>Malayalam</td>\n",
       "    </tr>\n",
       "    <tr>\n",
       "      <th>41</th>\n",
       "      <td>mn</td>\n",
       "      <td>Mongolian</td>\n",
       "    </tr>\n",
       "    <tr>\n",
       "      <th>42</th>\n",
       "      <td>ms</td>\n",
       "      <td>Malay</td>\n",
       "    </tr>\n",
       "    <tr>\n",
       "      <th>43</th>\n",
       "      <td>mt</td>\n",
       "      <td>Maltese</td>\n",
       "    </tr>\n",
       "    <tr>\n",
       "      <th>44</th>\n",
       "      <td>nb</td>\n",
       "      <td>Norwegian Bokmal</td>\n",
       "    </tr>\n",
       "    <tr>\n",
       "      <th>45</th>\n",
       "      <td>nl</td>\n",
       "      <td>Dutch</td>\n",
       "    </tr>\n",
       "    <tr>\n",
       "      <th>46</th>\n",
       "      <td>nn</td>\n",
       "      <td>Norwegian Nynorsk</td>\n",
       "    </tr>\n",
       "    <tr>\n",
       "      <th>47</th>\n",
       "      <td>pa</td>\n",
       "      <td>Panjabi</td>\n",
       "    </tr>\n",
       "    <tr>\n",
       "      <th>48</th>\n",
       "      <td>pl</td>\n",
       "      <td>Polish</td>\n",
       "    </tr>\n",
       "    <tr>\n",
       "      <th>49</th>\n",
       "      <td>ps</td>\n",
       "      <td>Pushto</td>\n",
       "    </tr>\n",
       "    <tr>\n",
       "      <th>50</th>\n",
       "      <td>pt</td>\n",
       "      <td>Portuguese</td>\n",
       "    </tr>\n",
       "    <tr>\n",
       "      <th>51</th>\n",
       "      <td>ro</td>\n",
       "      <td>Romanian</td>\n",
       "    </tr>\n",
       "    <tr>\n",
       "      <th>52</th>\n",
       "      <td>ru</td>\n",
       "      <td>Russian</td>\n",
       "    </tr>\n",
       "    <tr>\n",
       "      <th>53</th>\n",
       "      <td>sk</td>\n",
       "      <td>Slovakian</td>\n",
       "    </tr>\n",
       "    <tr>\n",
       "      <th>54</th>\n",
       "      <td>sl</td>\n",
       "      <td>Slovenian</td>\n",
       "    </tr>\n",
       "    <tr>\n",
       "      <th>55</th>\n",
       "      <td>so</td>\n",
       "      <td>Somali</td>\n",
       "    </tr>\n",
       "    <tr>\n",
       "      <th>56</th>\n",
       "      <td>sq</td>\n",
       "      <td>Albanian</td>\n",
       "    </tr>\n",
       "    <tr>\n",
       "      <th>57</th>\n",
       "      <td>sr</td>\n",
       "      <td>Serbian</td>\n",
       "    </tr>\n",
       "    <tr>\n",
       "      <th>58</th>\n",
       "      <td>sv</td>\n",
       "      <td>Swedish</td>\n",
       "    </tr>\n",
       "    <tr>\n",
       "      <th>59</th>\n",
       "      <td>ta</td>\n",
       "      <td>Tamil</td>\n",
       "    </tr>\n",
       "    <tr>\n",
       "      <th>60</th>\n",
       "      <td>te</td>\n",
       "      <td>Telugu</td>\n",
       "    </tr>\n",
       "    <tr>\n",
       "      <th>61</th>\n",
       "      <td>th</td>\n",
       "      <td>Thai</td>\n",
       "    </tr>\n",
       "    <tr>\n",
       "      <th>62</th>\n",
       "      <td>tr</td>\n",
       "      <td>Turkish</td>\n",
       "    </tr>\n",
       "    <tr>\n",
       "      <th>63</th>\n",
       "      <td>uk</td>\n",
       "      <td>Ukrainian</td>\n",
       "    </tr>\n",
       "    <tr>\n",
       "      <th>64</th>\n",
       "      <td>ur</td>\n",
       "      <td>Urdu</td>\n",
       "    </tr>\n",
       "    <tr>\n",
       "      <th>65</th>\n",
       "      <td>vi</td>\n",
       "      <td>Vietnamese</td>\n",
       "    </tr>\n",
       "    <tr>\n",
       "      <th>66</th>\n",
       "      <td>zh</td>\n",
       "      <td>Simplified Chinese</td>\n",
       "    </tr>\n",
       "    <tr>\n",
       "      <th>67</th>\n",
       "      <td>zh-TW</td>\n",
       "      <td>Traditional Chinese</td>\n",
       "    </tr>\n",
       "  </tbody>\n",
       "</table>\n",
       "<p>68 rows × 2 columns</p>\n",
       "</div>"
      ],
      "text/plain": [
       "   language                 name\n",
       "0        af            Afrikaans\n",
       "1        ar               Arabic\n",
       "2        az          Azerbaijani\n",
       "3        ba              Bashkir\n",
       "4        be           Belarusian\n",
       "5        bg            Bulgarian\n",
       "6        bn              Bengali\n",
       "7        ca              Catalan\n",
       "8        cs                Czech\n",
       "9        cv              Chuvash\n",
       "10       da               Danish\n",
       "11       de               German\n",
       "12       el                Greek\n",
       "13       en              English\n",
       "14       eo            Esperanto\n",
       "15       es              Spanish\n",
       "16       et             Estonian\n",
       "17       eu               Basque\n",
       "18       fa              Persian\n",
       "19       fi              Finnish\n",
       "20       fr               French\n",
       "21       ga                Irish\n",
       "22       gu             Gujarati\n",
       "23       he               Hebrew\n",
       "24       hi                Hindi\n",
       "25       hr             Croatian\n",
       "26       ht              Haitian\n",
       "27       hu            Hungarian\n",
       "28       hy             Armenian\n",
       "29       is            Icelandic\n",
       "..      ...                  ...\n",
       "38       lt           Lithuanian\n",
       "39       lv              Latvian\n",
       "40       ml            Malayalam\n",
       "41       mn            Mongolian\n",
       "42       ms                Malay\n",
       "43       mt              Maltese\n",
       "44       nb     Norwegian Bokmal\n",
       "45       nl                Dutch\n",
       "46       nn    Norwegian Nynorsk\n",
       "47       pa              Panjabi\n",
       "48       pl               Polish\n",
       "49       ps               Pushto\n",
       "50       pt           Portuguese\n",
       "51       ro             Romanian\n",
       "52       ru              Russian\n",
       "53       sk            Slovakian\n",
       "54       sl            Slovenian\n",
       "55       so               Somali\n",
       "56       sq             Albanian\n",
       "57       sr              Serbian\n",
       "58       sv              Swedish\n",
       "59       ta                Tamil\n",
       "60       te               Telugu\n",
       "61       th                 Thai\n",
       "62       tr              Turkish\n",
       "63       uk            Ukrainian\n",
       "64       ur                 Urdu\n",
       "65       vi           Vietnamese\n",
       "66       zh   Simplified Chinese\n",
       "67    zh-TW  Traditional Chinese\n",
       "\n",
       "[68 rows x 2 columns]"
      ]
     },
     "execution_count": 30,
     "metadata": {},
     "output_type": "execute_result"
    }
   ],
   "source": [
    "from pandas.io.json import json_normalize\n",
    "\n",
    "json_normalize(language_translator.list_identifiable_languages().get_result(), \"languages\")"
   ]
  },
  {
   "cell_type": "markdown",
   "metadata": {},
   "source": [
    "2.8. Use the method <code>translate</code> to translate the text we previously assigned to the variable <code>recognized_text</code>:\n",
    "* The parameter <code>text</code> is the text you want to translate. \n",
    "* The parameter <code>Model_id</code> is the model of tranlsation <code>from_language_code-to_language_code</code>.   \n",
    "\n",
    "_in our project, we are translating from English to Spanish_"
   ]
  },
  {
   "cell_type": "code",
   "execution_count": 31,
   "metadata": {
    "jupyter": {
     "outputs_hidden": false
    }
   },
   "outputs": [
    {
     "data": {
      "text/plain": [
       "<ibm_cloud_sdk_core.detailed_response.DetailedResponse at 0x10fb572e8>"
      ]
     },
     "execution_count": 31,
     "metadata": {},
     "output_type": "execute_result"
    }
   ],
   "source": [
    "translation_response = language_translator.translate(text=recognized_text, model_id='en-es')\n",
    "translation_response"
   ]
  },
  {
   "cell_type": "markdown",
   "metadata": {},
   "source": [
    "2.9. Use the method <code>get_result()</code> to get the result from the service response:\n",
    "\n",
    "_The result is a dictionary._"
   ]
  },
  {
   "cell_type": "code",
   "execution_count": 32,
   "metadata": {
    "jupyter": {
     "outputs_hidden": false
    }
   },
   "outputs": [
    {
     "data": {
      "text/plain": [
       "{'translations': [{'translation': 'así que muchas gracias por todo lo que haces por permitirme estar aquí contigo. '}],\n",
       " 'word_count': 18,\n",
       " 'character_count': 77}"
      ]
     },
     "execution_count": 32,
     "metadata": {},
     "output_type": "execute_result"
    }
   ],
   "source": [
    "translation=translation_response.get_result()\n",
    "translation"
   ]
  },
  {
   "cell_type": "markdown",
   "metadata": {},
   "source": [
    "2.10. We can obtain the actual translation as a string as follows:"
   ]
  },
  {
   "cell_type": "code",
   "execution_count": 33,
   "metadata": {},
   "outputs": [
    {
     "data": {
      "text/plain": [
       "'así que muchas gracias por todo lo que haces por permitirme estar aquí contigo. '"
      ]
     },
     "execution_count": 33,
     "metadata": {},
     "output_type": "execute_result"
    }
   ],
   "source": [
    "spanish_translation =translation['translations'][0]['translation']\n",
    "spanish_translation "
   ]
  },
  {
   "cell_type": "markdown",
   "metadata": {},
   "source": [
    "**Et Voila !! you translated the transcipted audio from English to Spanish!!**\n",
    "\n",
    "---"
   ]
  },
  {
   "cell_type": "markdown",
   "metadata": {},
   "source": [
    "## Extra:"
   ]
  },
  {
   "cell_type": "markdown",
   "metadata": {},
   "source": [
    "<p>We can translate back to English</p>"
   ]
  },
  {
   "cell_type": "code",
   "execution_count": 34,
   "metadata": {},
   "outputs": [],
   "source": [
    "translation_new = language_translator.translate(text=spanish_translation ,model_id='es-en').get_result()"
   ]
  },
  {
   "cell_type": "markdown",
   "metadata": {},
   "source": [
    "<p>We can obtain the actual translation as a string as follows:</p>"
   ]
  },
  {
   "cell_type": "code",
   "execution_count": 35,
   "metadata": {},
   "outputs": [
    {
     "data": {
      "text/plain": [
       "'So thank you so much for everything that you do to let me be here with you. '"
      ]
     },
     "execution_count": 35,
     "metadata": {},
     "output_type": "execute_result"
    }
   ],
   "source": [
    "translation_eng=translation_new['translations'][0]['translation']\n",
    "translation_eng"
   ]
  },
  {
   "cell_type": "markdown",
   "metadata": {},
   "source": [
    "---\n",
    "## References"
   ]
  },
  {
   "cell_type": "markdown",
   "metadata": {},
   "source": [
    "https://cloud.ibm.com/apidocs/speech-to-text?code=python"
   ]
  },
  {
   "cell_type": "markdown",
   "metadata": {},
   "source": [
    "https://cloud.ibm.com/apidocs/language-translator?code=python"
   ]
  },
  {
   "cell_type": "markdown",
   "metadata": {},
   "source": [
    "<hr>"
   ]
  }
 ],
 "metadata": {
  "kernelspec": {
   "display_name": "Python 3",
   "language": "python",
   "name": "python3"
  },
  "language_info": {
   "codemirror_mode": {
    "name": "ipython",
    "version": 3
   },
   "file_extension": ".py",
   "mimetype": "text/x-python",
   "name": "python",
   "nbconvert_exporter": "python",
   "pygments_lexer": "ipython3",
   "version": "3.7.3"
  }
 },
 "nbformat": 4,
 "nbformat_minor": 4
}
